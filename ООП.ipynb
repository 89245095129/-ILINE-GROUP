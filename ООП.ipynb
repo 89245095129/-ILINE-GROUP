{
  "nbformat": 4,
  "nbformat_minor": 0,
  "metadata": {
    "colab": {
      "provenance": [],
      "include_colab_link": true
    },
    "kernelspec": {
      "name": "python3",
      "display_name": "Python 3"
    },
    "language_info": {
      "name": "python"
    }
  },
  "cells": [
    {
      "cell_type": "markdown",
      "metadata": {
        "id": "view-in-github",
        "colab_type": "text"
      },
      "source": [
        "<a href=\"https://colab.research.google.com/github/89245095129/-ILINE-GROUP/blob/main/%D0%9E%D0%9E%D0%9F.ipynb\" target=\"_parent\"><img src=\"https://colab.research.google.com/assets/colab-badge.svg\" alt=\"Open In Colab\"/></a>"
      ]
    },
    {
      "cell_type": "code",
      "execution_count": null,
      "metadata": {
        "id": "pfKjrNCTcElC"
      },
      "outputs": [],
      "source": []
    },
    {
      "cell_type": "markdown",
      "source": [
        "# Воркшоп"
      ],
      "metadata": {
        "id": "mpPRm29ScFhh"
      }
    },
    {
      "cell_type": "code",
      "source": [
        "class User:\n",
        "    name = ''\n",
        "    email = ''\n",
        "    approved_by = ''\n",
        "\n",
        "    def __init__(self, name, email):\n",
        "        self.name = name\n",
        "        self.email = email\n",
        "\n",
        "    def show(self):\n",
        "        print('Name: ', self.name)\n",
        "        print('Email: ', self.email)\n",
        "        print('Approved by: ', self.approved_by)\n",
        "\n",
        "\n",
        "class AdminUser(User):\n",
        "    def __init__(self, name, email):\n",
        "        # super возвращает все поля и методы класса-родителя, от которого мы наследуем новый класс\n",
        "        super().__init__(name, email)\n",
        "        self.approved_by = 'admin'\n",
        "\n",
        "    def approve(self, user:User):\n",
        "        user.approved_by = self.name"
      ],
      "metadata": {
        "id": "dy6D5DQicHei"
      },
      "execution_count": null,
      "outputs": []
    },
    {
      "cell_type": "code",
      "source": [
        "user = User('aleks', 'mail@alex.com')\n",
        "admin = AdminUser('ivan', 'mail@ivan.com')"
      ],
      "metadata": {
        "id": "CfmOfeGdcJM4"
      },
      "execution_count": null,
      "outputs": []
    },
    {
      "cell_type": "code",
      "source": [
        "admin.approve(user)"
      ],
      "metadata": {
        "id": "_Iw1CeYGcKxc"
      },
      "execution_count": null,
      "outputs": []
    },
    {
      "cell_type": "code",
      "source": [
        "user.show()"
      ],
      "metadata": {
        "id": "VfozuQtvcKzy"
      },
      "execution_count": null,
      "outputs": []
    },
    {
      "cell_type": "code",
      "source": [
        "admin.show()"
      ],
      "metadata": {
        "id": "YHW5IR3wcND4"
      },
      "execution_count": null,
      "outputs": []
    },
    {
      "cell_type": "code",
      "source": [
        "admin2 = AdminUser('petr', 'mail@petr.com')\n",
        "admin2.approve(admin)"
      ],
      "metadata": {
        "id": "hSu2zD52cNGW"
      },
      "execution_count": null,
      "outputs": []
    },
    {
      "cell_type": "code",
      "source": [
        "admin.show()"
      ],
      "metadata": {
        "id": "jfQhfCcVcQAm"
      },
      "execution_count": null,
      "outputs": []
    }
  ]
}